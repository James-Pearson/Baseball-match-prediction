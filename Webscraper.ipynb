{
 "cells": [
  {
   "cell_type": "code",
   "execution_count": 1,
   "metadata": {},
   "outputs": [],
   "source": [
    "from selenium import webdriver\n",
    "from selenium.webdriver.support.ui import WebDriverWait\n",
    "from selenium.webdriver.support import expected_conditions as EC\n",
    "from selenium.webdriver.firefox.options import Options\n",
    "from selenium.webdriver.common.by import By\n",
    "from selenium.webdriver.common.keys import Keys\n",
    "\n",
    "from bs4 import BeautifulSoup as bs\n",
    "\n",
    "import re\n",
    "import threading\n",
    "import queue\n",
    "import time\n",
    "\n",
    "import pandas as pd\n",
    "import numpy as np\n",
    "from tqdm import tqdm"
   ]
  },
  {
   "cell_type": "code",
   "execution_count": 2,
   "metadata": {},
   "outputs": [],
   "source": [
    "driver = webdriver.Chrome('./chromedriver')"
   ]
  },
  {
   "cell_type": "code",
   "execution_count": 3,
   "metadata": {},
   "outputs": [],
   "source": [
    "%matplotlib inline\n",
    "%load_ext autoreload\n",
    "%autoreload 2\n",
    "\n",
    "import warnings\n",
    "warnings.filterwarnings('ignore')\n",
    "warnings.simplefilter(action='ignore', category=FutureWarning)"
   ]
  },
  {
   "cell_type": "code",
   "execution_count": 4,
   "metadata": {},
   "outputs": [],
   "source": [
    "def get_box_data(day, driver):\n",
    "    url = 'https://www.mlb.com/scores/%s' % day\n",
    "    driver.get(url)\n",
    "    time.sleep(5) # give it a couple of more second to load\n",
    "    soup = bs(driver.page_source.encode(\"utf-8\"), \"lxml\")\n",
    "    games = []\n",
    "    matchups = soup.findAll('div',{'class':'sc-pliRl kBFOtq'})\n",
    "    for i in matchups:\n",
    "        game = {}\n",
    "        team_names = i.findAll('div',{'class':'sc-prorn gDCUMt'})\n",
    "        game['away_team_name'] = team_names[0].text.strip('')\n",
    "        game['home_team_name'] = team_names[1].text.strip('')\n",
    "\n",
    "        team_record = i.findAll('div',{'class':'sc-fzqOul sc-fzoCCn lxBud'})\n",
    "        game['away_team_wins'] = team_record[0].text.split('-')[0]\n",
    "        game['away_team_losses'] = team_record[0].text.split('-')[1]\n",
    "        game['home_team_wins'] = team_record[1].text.split('-')[0]\n",
    "        game['home_team_losses'] = team_record[1].text.split('-')[1]\n",
    "\n",
    "        away_runs = i.findAll('div',{'class':'sc-fznNTe bxeZNG'})\n",
    "        home_runs = i.findAll('div',{'class':'sc-fznNTe jUJTWQ'})\n",
    "        if len(away_runs) > 0:\n",
    "            game['away_team_runs'] = away_runs[0].contents[0]\n",
    "            game['home_team_runs'] = home_runs[0].contents[0]\n",
    "        else:\n",
    "            game['away_team_runs'] = 'Game Cancelled'\n",
    "            game['home_team_runs'] = 'Game Cancelled'\n",
    "\n",
    "        away_hits = i.findAll('div',{'class':'sc-fznNTe iXeXYx'})\n",
    "        home_hits = i.findAll('div',{'class':'sc-fznNTe ijaSXv'})\n",
    "        if len(away_hits) > 0:\n",
    "            game['away_team_hits'] = away_hits[0].contents[0]\n",
    "            game['home_team_hits'] = home_hits[0].contents[0]\n",
    "        else:\n",
    "            game['away_team_hits'] = 'Game Cancelled'\n",
    "            game['home_team_hits'] = 'Game Cancelled'\n",
    "\n",
    "        away_errors = i.findAll('div',{'class':'sc-fznNTe iXeXYx'})\n",
    "        home_errors = i.findAll('div',{'class':'sc-fznNTe ijaSXv'})\n",
    "        if len(away_errors) > 0:\n",
    "            game['away_team_errors'] = away_errors[1].contents[0]\n",
    "            game['home_team_errors'] = home_errors[1].contents[0]\n",
    "        else:\n",
    "            game['away_team_errors'] = 'Game Cancelled'\n",
    "            game['home_team_errors'] = 'Game Cancelled'\n",
    "\n",
    "        team_pitcher = i.findAll('div',{'class':'sc-pIJJz hMgjpE'})\n",
    "        pitcher_stats = i.findAll('div',{'class':'sc-pANHa rtjrj'})\n",
    "        try:\n",
    "            pattern = \"(\\d+)\\s\\-\\s(\\d+),\\s(\\d+\\.\\d+)\\sERA\"\n",
    "            winning_pitcher = team_pitcher[0].text\n",
    "            g = re.search(pattern, pitcher_stats[0].text)\n",
    "            game['winning_pitcher'] = winning_pitcher\n",
    "            game['winning_pitcher_wins'] = g.group(1)\n",
    "            game['winning_pitcher_losses'] = g.group(2)\n",
    "            game['winning_pitcher_era'] = g.group(3)\n",
    "            g = re.search(pattern, pitcher_stats[1].text)\n",
    "            losing_pitcher = team_pitcher[1].text\n",
    "            game['losing_pitcher'] = losing_pitcher\n",
    "            game['losing_pitcher_wins'] = g.group(1)\n",
    "            game['losing_pitcher_losses'] = g.group(2)\n",
    "            game['losing_pitcher_era'] = g.group(3)\n",
    "        except:\n",
    "            pass\n",
    "\n",
    "        games.append(game)\n",
    "    return games"
   ]
  },
  {
   "cell_type": "code",
   "execution_count": 5,
   "metadata": {},
   "outputs": [],
   "source": [
    "def do_work(q, lock):\n",
    "    #start a web browser\n",
    "    driver = webdriver.Chrome('./chromedriver')\n",
    "    driver.implicitly_wait(10)\n",
    "    \n",
    "    #start working through the queue\n",
    "    while not q.empty():\n",
    "        day = q.get()\n",
    "        games = get_box_data(day, driver)\n",
    "        #some days have no games\n",
    "        if len(games) == 0:\n",
    "            q.task_done()\n",
    "            print(f\"{day} no games.\")\n",
    "            continue\n",
    "        \n",
    "        new_games = pd.DataFrame(games)\n",
    "        new_games['date']=day\n",
    "        \n",
    "        #save the games to disk\n",
    "        lock.acquire()\n",
    "        try:\n",
    "            game_df = pd.read_csv('data.csv', low_memory=False)\n",
    "        except:\n",
    "            game_df = pd.DataFrame()\n",
    "        game_df = pd.concat([game_df,new_games])\n",
    "        game_df['date'] = pd.to_datetime(game_df.date).dt.date\n",
    "        game_df.to_csv('data.csv', index=False)\n",
    "        lock.release()\n",
    "        \n",
    "        q.task_done()\n",
    "        print(f\"{day} done.\")\n",
    "    driver.quit()"
   ]
  },
  {
   "cell_type": "code",
   "execution_count": 6,
   "metadata": {},
   "outputs": [
    {
     "data": {
      "text/plain": [
       "764"
      ]
     },
     "execution_count": 6,
     "metadata": {},
     "output_type": "execute_result"
    }
   ],
   "source": [
    "#fill the queue with dates that we need games from\n",
    "q = queue.Queue(maxsize=0)\n",
    "\n",
    "#get last date from disk if we've already saved some data\n",
    "get_day = '2018-03-29'\n",
    "    \n",
    "# fill queue with all the dates until yesterday\n",
    "yesterday = pd.datetime.now().date() - pd.Timedelta(days=1)\n",
    "days = []\n",
    "while  pd.to_datetime(get_day).date() < yesterday:\n",
    "    get_day = (pd.to_datetime(get_day).date() + pd.Timedelta(days=1)).strftime('%Y-%m-%d')\n",
    "    if pd.to_datetime(get_day).month<3:continue    # baseball doesn't happen before march\n",
    "    if pd.to_datetime(get_day).month>11:continue   # baseball doesn't happen in december\n",
    "    q.put(get_day)\n",
    "q.qsize()"
   ]
  },
  {
   "cell_type": "code",
   "execution_count": null,
   "metadata": {},
   "outputs": [
    {
     "name": "stderr",
     "output_type": "stream",
     "text": [
      "100%|████████████████████████████████████████████████████████████████████████████████████████████| 3/3 [00:00<?, ?it/s]\n"
     ]
    },
    {
     "name": "stdout",
     "output_type": "stream",
     "text": [
      "2018-04-01 done.\n",
      "2018-03-30 done.\n",
      "2018-03-31 done.\n"
     ]
    },
    {
     "name": "stderr",
     "output_type": "stream",
     "text": [
      "Exception in thread Thread-7:\n",
      "Traceback (most recent call last):\n",
      "  File \"c:\\users\\jaype\\miniconda3\\lib\\threading.py\", line 932, in _bootstrap_inner\n",
      "    self.run()\n",
      "  File \"c:\\users\\jaype\\miniconda3\\lib\\threading.py\", line 870, in run\n",
      "    self._target(*self._args, **self._kwargs)\n",
      "  File \"<ipython-input-5-fc531f6e74c0>\", line 9, in do_work\n",
      "  File \"<ipython-input-4-caf6badcde6e>\", line 5, in get_box_data\n",
      "  File \"c:\\users\\jaype\\miniconda3\\lib\\site-packages\\selenium\\webdriver\\remote\\webdriver.py\", line 679, in page_source\n",
      "    return self.execute(Command.GET_PAGE_SOURCE)['value']\n",
      "  File \"c:\\users\\jaype\\miniconda3\\lib\\site-packages\\selenium\\webdriver\\remote\\webdriver.py\", line 321, in execute\n",
      "    self.error_handler.check_response(response)\n",
      "  File \"c:\\users\\jaype\\miniconda3\\lib\\site-packages\\selenium\\webdriver\\remote\\errorhandler.py\", line 242, in check_response\n",
      "    raise exception_class(message, screen, stacktrace)\n",
      "selenium.common.exceptions.WebDriverException: Message: unknown error: session deleted because of page crash\n",
      "from unknown error: cannot determine loading status\n",
      "from tab crashed\n",
      "  (Session info: chrome=86.0.4240.111)\n",
      "\n",
      "Exception in thread Thread-9:\n",
      "Traceback (most recent call last):\n",
      "  File \"c:\\users\\jaype\\miniconda3\\lib\\threading.py\", line 932, in _bootstrap_inner\n",
      "    self.run()\n",
      "  File \"c:\\users\\jaype\\miniconda3\\lib\\threading.py\", line 870, in run\n",
      "    self._target(*self._args, **self._kwargs)\n",
      "  File \"<ipython-input-5-fc531f6e74c0>\", line 9, in do_work\n",
      "  File \"<ipython-input-4-caf6badcde6e>\", line 5, in get_box_data\n",
      "  File \"c:\\users\\jaype\\miniconda3\\lib\\site-packages\\selenium\\webdriver\\remote\\webdriver.py\", line 679, in page_source\n",
      "    return self.execute(Command.GET_PAGE_SOURCE)['value']\n",
      "  File \"c:\\users\\jaype\\miniconda3\\lib\\site-packages\\selenium\\webdriver\\remote\\webdriver.py\", line 321, in execute\n",
      "    self.error_handler.check_response(response)\n",
      "  File \"c:\\users\\jaype\\miniconda3\\lib\\site-packages\\selenium\\webdriver\\remote\\errorhandler.py\", line 242, in check_response\n",
      "    raise exception_class(message, screen, stacktrace)\n",
      "selenium.common.exceptions.WebDriverException: Message: unknown error: session deleted because of page crash\n",
      "from unknown error: cannot determine loading status\n",
      "from tab crashed\n",
      "  (Session info: chrome=86.0.4240.111)\n",
      "\n",
      "Exception in thread Thread-8:\n",
      "Traceback (most recent call last):\n",
      "  File \"c:\\users\\jaype\\miniconda3\\lib\\threading.py\", line 932, in _bootstrap_inner\n",
      "    self.run()\n",
      "  File \"c:\\users\\jaype\\miniconda3\\lib\\threading.py\", line 870, in run\n",
      "    self._target(*self._args, **self._kwargs)\n",
      "  File \"<ipython-input-5-fc531f6e74c0>\", line 9, in do_work\n",
      "  File \"<ipython-input-4-caf6badcde6e>\", line 5, in get_box_data\n",
      "  File \"c:\\users\\jaype\\miniconda3\\lib\\site-packages\\selenium\\webdriver\\remote\\webdriver.py\", line 679, in page_source\n",
      "    return self.execute(Command.GET_PAGE_SOURCE)['value']\n",
      "  File \"c:\\users\\jaype\\miniconda3\\lib\\site-packages\\selenium\\webdriver\\remote\\webdriver.py\", line 321, in execute\n",
      "    self.error_handler.check_response(response)\n",
      "  File \"c:\\users\\jaype\\miniconda3\\lib\\site-packages\\selenium\\webdriver\\remote\\errorhandler.py\", line 242, in check_response\n",
      "    raise exception_class(message, screen, stacktrace)\n",
      "selenium.common.exceptions.WebDriverException: Message: unknown error: session deleted because of page crash\n",
      "from unknown error: cannot determine loading status\n",
      "from tab crashed\n",
      "  (Session info: chrome=86.0.4240.111)\n",
      "\n"
     ]
    }
   ],
   "source": [
    "num_threads = 3    # num of firefox windows\n",
    "lock = threading.Lock()\n",
    "\n",
    "#start the workers\n",
    "for i in tqdm(range(num_threads)):\n",
    "    worker = threading.Thread(target=do_work, args=(q,lock,))\n",
    "    worker.setDaemon(True)\n",
    "    worker.start()\n",
    "        \n",
    "#wait for workers to finish\n",
    "q.join()"
   ]
  },
  {
   "cell_type": "code",
   "execution_count": null,
   "metadata": {},
   "outputs": [],
   "source": []
  }
 ],
 "metadata": {
  "kernelspec": {
   "display_name": "Python 3",
   "language": "python",
   "name": "python3"
  },
  "language_info": {
   "codemirror_mode": {
    "name": "ipython",
    "version": 3
   },
   "file_extension": ".py",
   "mimetype": "text/x-python",
   "name": "python",
   "nbconvert_exporter": "python",
   "pygments_lexer": "ipython3",
   "version": "3.8.3"
  }
 },
 "nbformat": 4,
 "nbformat_minor": 4
}
